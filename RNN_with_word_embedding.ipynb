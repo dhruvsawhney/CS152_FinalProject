{
 "cells": [
  {
   "cell_type": "code",
   "execution_count": 25,
   "metadata": {},
   "outputs": [],
   "source": [
    "from numpy import array\n",
    "from numpy import asarray\n",
    "from numpy import zeros\n",
    "from keras.preprocessing.text import Tokenizer\n",
    "from keras.preprocessing.sequence import pad_sequences\n",
    "from keras.models import Sequential\n",
    "from keras.layers import Dense\n",
    "from keras.layers import Flatten\n",
    "from keras.layers import Embedding\n",
    "from keras.layers import LSTM\n",
    "from math import floor\n",
    "import torch\n",
    "# import sys"
   ]
  },
  {
   "cell_type": "code",
   "execution_count": 26,
   "metadata": {},
   "outputs": [],
   "source": [
    "# pipe output to text file. This has to be done as we loose socket connection if output of RNN model is piped\n",
    "# to std_out\n",
    "# sys.stdout = open('RNN_word_embedding_model_output.txt', 'w')"
   ]
  },
  {
   "cell_type": "code",
   "execution_count": 27,
   "metadata": {},
   "outputs": [
    {
     "data": {
      "text/plain": [
       "True"
      ]
     },
     "execution_count": 27,
     "metadata": {},
     "output_type": "execute_result"
    }
   ],
   "source": [
    "# check that gpu is available\n",
    "torch.cuda.is_available()"
   ]
  },
  {
   "cell_type": "code",
   "execution_count": 28,
   "metadata": {},
   "outputs": [
    {
     "data": {
      "text/plain": [
       "\"\\nAn RNN (architecture details mentioned in docstring) is used to perform sentiment classification for movie reviews.\\nThe data source is Kaggle IMDB movie review data (https://www.kaggle.com/c/sentiment-analysis-on-movie-reviews/data).\\nAs a preprocessing step, we use word-embedding (Facebook's Glove embedding) as inputs to the RNN. \\nThis ensures that we do not use 1-hot sparse vectors as inputs to RNN.\\n\""
      ]
     },
     "execution_count": 28,
     "metadata": {},
     "output_type": "execute_result"
    }
   ],
   "source": [
    "'''\n",
    "An RNN (architecture details mentioned in docstring) is used to perform sentiment classification for movie reviews.\n",
    "The data source is Kaggle IMDB movie review data (https://www.kaggle.com/c/sentiment-analysis-on-movie-reviews/data).\n",
    "As a preprocessing step, we use word-embedding (Facebook's Glove embedding) as inputs to the RNN. \n",
    "This ensures that we do not use 1-hot sparse vectors as inputs to RNN.\n",
    "'''"
   ]
  },
  {
   "cell_type": "code",
   "execution_count": 29,
   "metadata": {},
   "outputs": [],
   "source": [
    "'''\n",
    "Loads the IMDB data from Kaggle (https://www.kaggle.com/c/sentiment-analysis-on-movie-reviews/data). The numbers range from 0 (most negative) to 5 (most positive). \n",
    "This functions threholds the label to be 1 if (label >=3), else 0\n",
    "\n",
    "Parameters:\n",
    "    filename: the relative path of the dataset\n",
    "'''\n",
    "def getData(filename):\n",
    "    fp = open(filename)\n",
    "    # do stuff here\n",
    "    line = fp.readline()\n",
    "    cnt = 1\n",
    "   \n",
    "    x=[]\n",
    "    y=[]\n",
    "    max_length = 0\n",
    "    while line:\n",
    "       lst = line.strip().split()    \n",
    "       # first two items in the line are indices\n",
    "       temp_sentence = lst[2:-1]\n",
    "       max_length = max(max_length,len(temp_sentence))\n",
    "\n",
    "       if len(temp_sentence) != 0:\n",
    "            sentence = ' '.join(temp_sentence[:-1])\n",
    "            # # stop part of the last string\n",
    "            # sentence += temp_sentence[-1]\n",
    "            category = lst[-1]\n",
    "            x.append(sentence)\n",
    "            y.append(category)\n",
    "       line = fp.readline()\n",
    "       cnt += 1\n",
    "    fp.close()\n",
    "    assert(len(x) == len(y))\n",
    "    \n",
    "    # the col name is in the first place for y, but what about x ?\n",
    "    x = x[1:]\n",
    "    y = y[1:]\n",
    "\n",
    "    # modify Y to be 0 or 1\n",
    "    # 1 - positive, 0 - negative\n",
    "    y = [1 if int(i) >= 3 else 0 for i in y]\n",
    "\n",
    "    return (x, y, max_length)\n"
   ]
  },
  {
   "cell_type": "code",
   "execution_count": 30,
   "metadata": {},
   "outputs": [],
   "source": [
    "'''\n",
    "Preprocess the data: (1) tokenize the data (2) Pad the data to ensure inputs are of the same length when\n",
    "sent to RNN\n",
    "\n",
    "Parameters:\n",
    "    x: the vector of text that is tokenized\n",
    "    max_length: the maximum length of a sequence of words from vector x \n",
    "'''\n",
    "\n",
    "def preprocess(x, max_length):\n",
    "\n",
    "    # prepare tokenizer\n",
    "    t = Tokenizer()\n",
    "    t.fit_on_texts(x)\n",
    "    vocab_size = len(t.word_index) + 1\n",
    "\n",
    "    # integer (unique) encode the documents\n",
    "    # pad documents to a max_length words\n",
    "    encode_x = t.texts_to_sequences(x)\n",
    "    padded_x = pad_sequences(encode_x, maxlen=max_length, padding='post')\n",
    "\n",
    "    return padded_x, vocab_size, t"
   ]
  },
  {
   "cell_type": "code",
   "execution_count": 31,
   "metadata": {},
   "outputs": [],
   "source": [
    "'''\n",
    "Wrapper function that (1) Loads the IMDB data (2) Preprocesses the data \n",
    "(3) Creates an embedding matrix using Facebook's glove embedding\n",
    "'''\n",
    "\n",
    "def model():\n",
    "  \n",
    "    x_train, y_train, max_length_train = getData('data/train.tsv')\n",
    "\n",
    "    # use 10% of the data as test data at the end\n",
    "    split = floor(len(x_train)*0.9)\n",
    "    temp_x_train = x_train\n",
    "    temp_y_train = y_train\n",
    "    \n",
    "    # preprocess the training data for RNN computation\n",
    "    # padding the data ensures the length of each input fed to RNN is equal\n",
    "    x_train = temp_x_train[:split]\n",
    "    y_train = temp_y_train[:split]\n",
    "    padded_x_train, vocab_size_train, train_tokenizer = preprocess(x_train, max_length_train)\n",
    "\n",
    "    # similar preprocessing for test input\n",
    "    x_test = temp_x_train[split:]\n",
    "    y_test = temp_y_train[split:]\n",
    "\n",
    "    print(\"THE SIZE OF THE SPLIT: \", len(x_test))\n",
    "#     max_length_test = 0\n",
    "#     for phrase in x_test:\n",
    "#         max_length_test = max(max_length_test, len(phrase.split()))\n",
    "    \n",
    "#     padded_x_test, _ ,_ = preprocess(x_test, max_length_test)\n",
    "    # pad by the same amount for (52,) input to RNN\n",
    "    padded_x_test, _ ,_ = preprocess(x_test, max_length_train)\n",
    "    \n",
    "    print(\"1: \", padded_x_train.shape)\n",
    "    print(\"2: \", len(y_train))\n",
    "    print(\"3: \", padded_x_test.shape)\n",
    "    print(\"4: \", len(y_test))\n",
    "    \n",
    "    # load the glove embedding into memory\n",
    "    # From glove, 400000 word vectors loaded into memory\n",
    "    embeddings_index = dict()\n",
    "    fp = open('data/glove.6B.100d.txt')\n",
    "    for line in fp:\n",
    "        values = line.split()\n",
    "        word = values[0]\n",
    "        coefs = asarray(values[1:], dtype='float32')\n",
    "        embeddings_index[word] = coefs\n",
    "    fp.close()\n",
    "    print('Loaded %s word vectors.' % len(embeddings_index))\n",
    "\n",
    "    # create a weight matrix for words in training docs\n",
    "    # the dimension of the matrix is (training vocab size x 100)\n",
    "    embedding_matrix = zeros((vocab_size_train, 100))\n",
    "    \n",
    "    total_words = 0    \n",
    "    found_words = 0\n",
    "    for word, i in train_tokenizer.word_index.items():\n",
    "        total_words += 1\n",
    "        embedding_vector = embeddings_index.get(word)\n",
    "        if embedding_vector is not None:\n",
    "            found_words += 1\n",
    "            embedding_matrix[i] = embedding_vector\n",
    "\n",
    "    print(\"Percent of words found from the embedding matrix for training data: \", (found_words/total_words))\n",
    "    \n",
    "    return (vocab_size_train, embedding_matrix, max_length_train, padded_x_train, y_train, padded_x_test, y_test)\n"
   ]
  },
  {
   "cell_type": "code",
   "execution_count": 32,
   "metadata": {},
   "outputs": [],
   "source": [
    "'''\n",
    "Defines a RNN architecture: 2 layer bi-directional LSTM with sigmoid output for sentiment binary classification\n",
    "\n",
    "Hyper-parameters:\n",
    "    Dropout: 0.5 dropout for the nodes in a given layer, if applied\n",
    "    Hidden size: 100\n",
    "    num_epochs: 3\n",
    "    Validation data split: 20% of training data such that model is trained on 80% of data and validated on 20% in each epoch\n",
    "\n",
    "Parameters:\n",
    "    vocab_size_train: the size (# words) of the vocabulary being trained\n",
    "    \n",
    "    embedding_matrix: the 100-dimensional Glove embedding used as inputs to the RNN\n",
    "    \n",
    "    max_length_train: the maximum length of a sequence of words from the vector being trained on\n",
    "    \n",
    "    padded_x_train: the padded training data, done to ensure the inputs feed to the RNN a constant length\n",
    "    \n",
    "    y_train: The labels for the training data\n",
    "    \n",
    "    padded_x_test: the padded test (hold-out) data, done to ensure the inputs feed to the RNN a constant length\n",
    "    \n",
    "    y_test: the labels for the test data \n",
    "    \n",
    "    dropout: A boolean flag to embed drop-out in the RNN\n",
    "'''\n",
    "def build_and_run_model(vocab_size_train, embedding_matrix, max_length_train, padded_x_train, y_train, padded_x_test, y_test, dropout=False):\n",
    "    print(type(padded_x_test))\n",
    "    print(padded_x_test.shape)\n",
    "    # define model\n",
    "    use_dropout = dropout\n",
    "    model = Sequential()\n",
    "    hidden_size = 100\n",
    "\n",
    "    num_epochs = 1\n",
    "    \n",
    "\n",
    "    e = Embedding(vocab_size_train, hidden_size, weights=[embedding_matrix], input_length=max_length_train, trainable=False)\n",
    "    model.add(e)\n",
    "    model.add(LSTM(hidden_size, return_sequences=True))\n",
    "    model.add(LSTM(hidden_size, return_sequences=False))\n",
    "    model.add(Dense(1, activation='sigmoid'))\n",
    "    if use_dropout:\n",
    "        model.add(Dropout(0.5))\n",
    "    \n",
    "    # print summary of model\n",
    "    print(\"Model summary: \")\n",
    "    print(model.summary())\n",
    "\n",
    "    model.compile(loss='binary_crossentropy', optimizer='adam', metrics=['accuracy'])\n",
    "\n",
    "    hist = model.fit(padded_x_train, y_train, epochs=num_epochs, validation_split = 0.2, verbose=1)\n",
    "#     sys.stdout = sys.__stdout__\n",
    "    \n",
    "    # bug here\n",
    "    scores = model.evaluate(padded_x_test, y_test, verbose=1)\n",
    "    print('Test accuracy:', scores[1])\n",
    "    print(hist.history)"
   ]
  },
  {
   "cell_type": "code",
   "execution_count": 33,
   "metadata": {},
   "outputs": [
    {
     "name": "stdout",
     "output_type": "stream",
     "text": [
      "THE SIZE OF THE SPLIT:  15606\n",
      "1:  (140453, 52)\n",
      "2:  140453\n",
      "3:  (15606, 52)\n",
      "4:  15606\n",
      "Loaded 194504 word vectors.\n",
      "Percent of words found from the embedding matrix for training data:  0.9562231164145969\n",
      "<class 'numpy.ndarray'>\n",
      "(15606, 52)\n",
      "Model summary: \n",
      "_________________________________________________________________\n",
      "Layer (type)                 Output Shape              Param #   \n",
      "=================================================================\n",
      "embedding_5 (Embedding)      (None, 52, 100)           1441500   \n",
      "_________________________________________________________________\n",
      "lstm_9 (LSTM)                (None, 52, 100)           80400     \n",
      "_________________________________________________________________\n",
      "lstm_10 (LSTM)               (None, 100)               80400     \n",
      "_________________________________________________________________\n",
      "dense_5 (Dense)              (None, 1)                 101       \n",
      "=================================================================\n",
      "Total params: 1,602,401\n",
      "Trainable params: 160,901\n",
      "Non-trainable params: 1,441,500\n",
      "_________________________________________________________________\n",
      "None\n",
      "Train on 112362 samples, validate on 28091 samples\n",
      "Epoch 1/1\n",
      "112362/112362 [==============================] - 328s 3ms/step - loss: 0.5144 - acc: 0.7689 - val_loss: 0.4581 - val_acc: 0.8001\n",
      "15606/15606 [==============================] - 12s 785us/step\n",
      "Test accuracy: 0.6810841983852365\n",
      "{'val_loss': [0.45814023722843866], 'val_acc': [0.8000783169177473], 'loss': [0.5144091803232468], 'acc': [0.768880938395543]}\n"
     ]
    }
   ],
   "source": [
    "(vocab_size_train, embedding_matrix, max_length_train, padded_x_train, y_train, padded_x_test, y_test) = model()\n",
    "# run the model without dropout\n",
    "build_and_run_model(vocab_size_train, embedding_matrix, max_length_train, padded_x_train, y_train, padded_x_test, y_test, dropout=False)"
   ]
  },
  {
   "cell_type": "code",
   "execution_count": null,
   "metadata": {},
   "outputs": [],
   "source": [
    "# run the model with dropout to compare performance\n",
    "build_and_run_model(vocab_size_train, embedding_matrix, max_length_train, padded_x_train, y_train, padded_x_test, y_test, dropout=True)"
   ]
  },
  {
   "cell_type": "code",
   "execution_count": null,
   "metadata": {},
   "outputs": [],
   "source": []
  },
  {
   "cell_type": "code",
   "execution_count": null,
   "metadata": {},
   "outputs": [],
   "source": []
  },
  {
   "cell_type": "code",
   "execution_count": null,
   "metadata": {},
   "outputs": [],
   "source": []
  },
  {
   "cell_type": "code",
   "execution_count": null,
   "metadata": {},
   "outputs": [],
   "source": []
  },
  {
   "cell_type": "code",
   "execution_count": null,
   "metadata": {},
   "outputs": [],
   "source": []
  },
  {
   "cell_type": "code",
   "execution_count": null,
   "metadata": {},
   "outputs": [],
   "source": []
  },
  {
   "cell_type": "code",
   "execution_count": null,
   "metadata": {},
   "outputs": [],
   "source": []
  },
  {
   "cell_type": "code",
   "execution_count": null,
   "metadata": {},
   "outputs": [],
   "source": []
  },
  {
   "cell_type": "code",
   "execution_count": null,
   "metadata": {},
   "outputs": [],
   "source": []
  },
  {
   "cell_type": "code",
   "execution_count": null,
   "metadata": {},
   "outputs": [],
   "source": []
  },
  {
   "cell_type": "code",
   "execution_count": null,
   "metadata": {},
   "outputs": [],
   "source": []
  },
  {
   "cell_type": "code",
   "execution_count": null,
   "metadata": {},
   "outputs": [],
   "source": []
  },
  {
   "cell_type": "code",
   "execution_count": null,
   "metadata": {},
   "outputs": [],
   "source": []
  },
  {
   "cell_type": "code",
   "execution_count": null,
   "metadata": {},
   "outputs": [],
   "source": []
  },
  {
   "cell_type": "code",
   "execution_count": null,
   "metadata": {},
   "outputs": [],
   "source": []
  },
  {
   "cell_type": "code",
   "execution_count": null,
   "metadata": {},
   "outputs": [],
   "source": []
  },
  {
   "cell_type": "code",
   "execution_count": null,
   "metadata": {},
   "outputs": [],
   "source": []
  },
  {
   "cell_type": "code",
   "execution_count": null,
   "metadata": {},
   "outputs": [],
   "source": []
  },
  {
   "cell_type": "code",
   "execution_count": null,
   "metadata": {},
   "outputs": [],
   "source": []
  },
  {
   "cell_type": "code",
   "execution_count": null,
   "metadata": {},
   "outputs": [],
   "source": []
  },
  {
   "cell_type": "code",
   "execution_count": null,
   "metadata": {},
   "outputs": [],
   "source": []
  },
  {
   "cell_type": "code",
   "execution_count": null,
   "metadata": {},
   "outputs": [],
   "source": []
  },
  {
   "cell_type": "code",
   "execution_count": null,
   "metadata": {},
   "outputs": [],
   "source": []
  },
  {
   "cell_type": "code",
   "execution_count": null,
   "metadata": {},
   "outputs": [],
   "source": []
  },
  {
   "cell_type": "code",
   "execution_count": null,
   "metadata": {},
   "outputs": [],
   "source": []
  },
  {
   "cell_type": "code",
   "execution_count": null,
   "metadata": {},
   "outputs": [],
   "source": []
  },
  {
   "cell_type": "code",
   "execution_count": null,
   "metadata": {},
   "outputs": [],
   "source": []
  },
  {
   "cell_type": "code",
   "execution_count": null,
   "metadata": {},
   "outputs": [],
   "source": []
  },
  {
   "cell_type": "code",
   "execution_count": null,
   "metadata": {},
   "outputs": [],
   "source": []
  },
  {
   "cell_type": "code",
   "execution_count": null,
   "metadata": {},
   "outputs": [],
   "source": []
  },
  {
   "cell_type": "code",
   "execution_count": null,
   "metadata": {},
   "outputs": [],
   "source": []
  },
  {
   "cell_type": "code",
   "execution_count": null,
   "metadata": {},
   "outputs": [],
   "source": []
  },
  {
   "cell_type": "code",
   "execution_count": null,
   "metadata": {},
   "outputs": [],
   "source": []
  },
  {
   "cell_type": "code",
   "execution_count": null,
   "metadata": {},
   "outputs": [],
   "source": []
  },
  {
   "cell_type": "code",
   "execution_count": null,
   "metadata": {},
   "outputs": [],
   "source": []
  },
  {
   "cell_type": "code",
   "execution_count": null,
   "metadata": {},
   "outputs": [],
   "source": []
  },
  {
   "cell_type": "code",
   "execution_count": null,
   "metadata": {},
   "outputs": [],
   "source": []
  },
  {
   "cell_type": "code",
   "execution_count": null,
   "metadata": {},
   "outputs": [],
   "source": []
  },
  {
   "cell_type": "code",
   "execution_count": null,
   "metadata": {},
   "outputs": [],
   "source": []
  },
  {
   "cell_type": "code",
   "execution_count": null,
   "metadata": {},
   "outputs": [],
   "source": []
  },
  {
   "cell_type": "code",
   "execution_count": null,
   "metadata": {},
   "outputs": [],
   "source": []
  },
  {
   "cell_type": "code",
   "execution_count": null,
   "metadata": {},
   "outputs": [],
   "source": []
  }
 ],
 "metadata": {
  "kernelspec": {
   "display_name": "Python 3",
   "language": "python",
   "name": "python3"
  },
  "language_info": {
   "codemirror_mode": {
    "name": "ipython",
    "version": 3
   },
   "file_extension": ".py",
   "mimetype": "text/x-python",
   "name": "python",
   "nbconvert_exporter": "python",
   "pygments_lexer": "ipython3",
   "version": "3.6.6"
  }
 },
 "nbformat": 4,
 "nbformat_minor": 2
}
