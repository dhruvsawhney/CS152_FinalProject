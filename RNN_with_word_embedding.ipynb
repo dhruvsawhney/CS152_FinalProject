{
 "cells": [
  {
   "cell_type": "code",
   "execution_count": 1,
   "metadata": {},
   "outputs": [
    {
     "name": "stderr",
     "output_type": "stream",
     "text": [
      "Using TensorFlow backend.\n"
     ]
    }
   ],
   "source": [
    "from numpy import array\n",
    "from numpy import asarray\n",
    "from numpy import zeros\n",
    "from keras.preprocessing.text import Tokenizer\n",
    "from keras.preprocessing.sequence import pad_sequences\n",
    "from keras.models import Sequential\n",
    "from keras.layers import Dense\n",
    "from keras.layers import Flatten\n",
    "from keras.layers import Embedding\n",
    "from keras.layers import LSTM\n",
    "from math import floor\n",
    "import torch"
   ]
  },
  {
   "cell_type": "code",
   "execution_count": 2,
   "metadata": {},
   "outputs": [
    {
     "data": {
      "text/plain": [
       "True"
      ]
     },
     "execution_count": 2,
     "metadata": {},
     "output_type": "execute_result"
    }
   ],
   "source": [
    "# check that gpu is available\n",
    "torch.cuda.is_available()"
   ]
  },
  {
   "cell_type": "code",
   "execution_count": 1,
   "metadata": {},
   "outputs": [
    {
     "data": {
      "text/plain": [
       "\"\\nAn RNN (architecture details mentioned in docstring) is used to perform sentiment classification for movie reviews.\\nThe data source is Kaggle IMDB movie review data (https://www.kaggle.com/c/sentiment-analysis-on-movie-reviews/data).\\nAs a preprocessing step, we use word-embedding (Facebook's Glove embedding) as inputs to the RNN. \\nThis ensures that we do not use 1-hot sparse vectors as inputs to RNN.\\n\""
      ]
     },
     "execution_count": 1,
     "metadata": {},
     "output_type": "execute_result"
    }
   ],
   "source": [
    "'''\n",
    "An RNN (architecture details mentioned in docstring) is used to perform sentiment classification for movie reviews.\n",
    "The data source is Kaggle IMDB movie review data (https://www.kaggle.com/c/sentiment-analysis-on-movie-reviews/data).\n",
    "As a preprocessing step, we use word-embedding (Facebook's Glove embedding) as inputs to the RNN. \n",
    "This ensures that we do not use 1-hot sparse vectors as inputs to RNN.\n",
    "'''"
   ]
  },
  {
   "cell_type": "code",
   "execution_count": 3,
   "metadata": {},
   "outputs": [],
   "source": [
    "'''\n",
    "Loads the IMDB data from Kaggle (https://www.kaggle.com/c/sentiment-analysis-on-movie-reviews/data). The numbers range from 0 (most negative) to 5 (most positive). \n",
    "This functions threholds the label to be 1 if (label >=3), else 0\n",
    "\n",
    "Parameters:\n",
    "    filename: the relative path of the dataset\n",
    "'''\n",
    "def getData(filename):\n",
    "    fp = open(filename)\n",
    "    # do stuff here\n",
    "    line = fp.readline()\n",
    "    cnt = 1\n",
    "   \n",
    "    x=[]\n",
    "    y=[]\n",
    "    max_length = 0\n",
    "    while line:\n",
    "       lst = line.strip().split()    \n",
    "       # first two items in the line are indices\n",
    "       temp_sentence = lst[2:-1]\n",
    "       max_length = max(max_length,len(temp_sentence))\n",
    "\n",
    "       if len(temp_sentence) != 0:\n",
    "            sentence = ' '.join(temp_sentence[:-1])\n",
    "            # # stop part of the last string\n",
    "            # sentence += temp_sentence[-1]\n",
    "            category = lst[-1]\n",
    "            x.append(sentence)\n",
    "            y.append(category)\n",
    "       line = fp.readline()\n",
    "       cnt += 1\n",
    "    fp.close()\n",
    "    assert(len(x) == len(y))\n",
    "    \n",
    "    # the col name is in the first place for y, but what about x ?\n",
    "    x = x[1:]\n",
    "    y = y[1:]\n",
    "\n",
    "    # modify Y to be 0 or 1\n",
    "    # 1 - positive, 0 - negative\n",
    "    y = [1 if int(i) >= 3 else 0 for i in y]\n",
    "\n",
    "    return (x, y, max_length)\n"
   ]
  },
  {
   "cell_type": "code",
   "execution_count": 4,
   "metadata": {},
   "outputs": [],
   "source": [
    "'''\n",
    "Preprocess the data: (1) tokenize the data (2) Pad the data to ensure inputs are of the same length when\n",
    "sent to RNN\n",
    "\n",
    "Parameters:\n",
    "    x: the vector of text that is tokenized\n",
    "    max_length: the maximum length of a sequence of words from vector x \n",
    "'''\n",
    "\n",
    "def preprocess(x, max_length):\n",
    "\n",
    "    # prepare tokenizer\n",
    "    t = Tokenizer()\n",
    "    t.fit_on_texts(x)\n",
    "    vocab_size = len(t.word_index) + 1\n",
    "\n",
    "    # integer (unique) encode the documents\n",
    "    # pad documents to a max_length words\n",
    "    encode_x = t.texts_to_sequences(x)\n",
    "    padded_x = pad_sequences(encode_x, maxlen=max_length, padding='post')\n",
    "\n",
    "    return padded_x, vocab_size, t"
   ]
  },
  {
   "cell_type": "code",
   "execution_count": 5,
   "metadata": {},
   "outputs": [],
   "source": [
    "'''\n",
    "Wrapper function that (1) Loads the IMDB data (2) Preprocesses the data \n",
    "(3) Creates an embedding matrix using Facebook's glove embedding\n",
    "'''\n",
    "\n",
    "def model():\n",
    "  \n",
    "    x_train, y_train, max_length_train = getData('data/train.tsv')\n",
    "\n",
    "    # use 10% of the data as test data at the end\n",
    "    split = floor(len(x_train)*0.9)\n",
    "    \n",
    "    # preprocess the training data for RNN computation\n",
    "    # padding the data ensures the length of each input fed to RNN is equal\n",
    "    x_train = x_train[:split]\n",
    "    y_train = y_train[:split]\n",
    "    padded_x_train, vocab_size_train, train_tokenizer = preprocess(x_train, max_length_train)\n",
    "\n",
    "    # similar preprocessing for test input\n",
    "    x_test = x_train[split:]\n",
    "    y_test = y_train[split:]\n",
    "\n",
    "    max_length_test = 0\n",
    "    for phrase in x_test:\n",
    "        max_length_test = max(max_length_test, len(phrase.split()))\n",
    "    \n",
    "    padded_x_test, _ ,_ = preprocess(x_test, max_length_test)\n",
    "\n",
    "    # load the glove embedding into memory\n",
    "    # From glove, 400000 word vectors loaded into memory\n",
    "    embeddings_index = dict()\n",
    "    fp = open('data/glove.6B.100d.txt')\n",
    "    for line in fp:\n",
    "        values = line.split()\n",
    "        word = values[0]\n",
    "        coefs = asarray(values[1:], dtype='float32')\n",
    "        embeddings_index[word] = coefs\n",
    "    fp.close()\n",
    "    print('Loaded %s word vectors.' % len(embeddings_index))\n",
    "\n",
    "    # create a weight matrix for words in training docs\n",
    "    # the dimension of the matrix is (training vocab size x 100)\n",
    "    embedding_matrix = zeros((vocab_size_train, 100))\n",
    "    \n",
    "    total_words = 0    \n",
    "    found_words = 0\n",
    "    for word, i in train_tokenizer.word_index.items():\n",
    "        total_words += 1\n",
    "        embedding_vector = embeddings_index.get(word)\n",
    "        if embedding_vector is not None:\n",
    "            found_words += 1\n",
    "            embedding_matrix[i] = embedding_vector\n",
    "\n",
    "    print(\"The number of found words from the embedding matrix for training data: \", found_words)\n",
    "    \n",
    "    return (vocab_size_train, embedding_matrix, max_length_train, padded_x_train, y_train, padded_x_test, y_test)\n"
   ]
  },
  {
   "cell_type": "code",
   "execution_count": 6,
   "metadata": {},
   "outputs": [],
   "source": [
    "'''\n",
    "Defines a RNN architecture: 2 layer bi-directional LSTM with sigmoid output for sentiment binary classification\n",
    "\n",
    "Hyper-parameters:\n",
    "    Dropout: 0.5 dropout for the nodes in a given layer, if applied\n",
    "    Hidden size: 100\n",
    "    num_epochs: 3\n",
    "    Validation data split: 20% of training data such that model is trained on 80% of data and validated on 20% in each epoch\n",
    "\n",
    "Parameters:\n",
    "    vocab_size_train: the size (# words) of the vocabulary being trained\n",
    "    \n",
    "    embedding_matrix: the 100-dimensional Glove embedding used as inputs to the RNN\n",
    "    \n",
    "    max_length_train: the maximum length of a sequence of words from the vector being trained on\n",
    "    \n",
    "    padded_x_train: the padded training data, done to ensure the inputs feed to the RNN a constant length\n",
    "    \n",
    "    y_train: The labels for the training data\n",
    "    \n",
    "    padded_x_test: the padded test (hold-out) data, done to ensure the inputs feed to the RNN a constant length\n",
    "    \n",
    "    y_test: the labels for the test data \n",
    "    \n",
    "    dropout: A boolean flag to embed drop-out in the RNN\n",
    "'''\n",
    "def build_and_run_model(vocab_size_train, embedding_matrix, max_length_train, padded_x_train, y_train, padded_x_test, y_test, dropout=False):\n",
    "    \n",
    "    # define model\n",
    "    use_dropout = dropout\n",
    "    model = Sequential()\n",
    "    hidden_size = 100\n",
    "    num_epochs = 3\n",
    "    \n",
    "\n",
    "    e = Embedding(vocab_size_train, hidden_size, weights=[embedding_matrix], input_length=max_length_train, trainable=False)\n",
    "    model.add(e)\n",
    "    model.add(LSTM(hidden_size, return_sequences=True))\n",
    "    model.add(LSTM(hidden_size, return_sequences=False))\n",
    "    model.add(Dense(1, activation='sigmoid'))\n",
    "    if use_dropout:\n",
    "        model.add(Dropout(0.5))\n",
    "        \n",
    "    # print summary of model\n",
    "    print(\"Model summary: \")\n",
    "    print(model.summary())\n",
    "\n",
    "    model.compile(loss='binary_crossentropy', optimizer='adam', metrics=['accuracy'])\n",
    "\n",
    "    hist = model.fit(padded_x_train, y_train, epochs=num_epochs, validation_split = 0.2)\n",
    "\n",
    "    scores = model.evaluate(padded_x_test, y_test, verbose=1)\n",
    "    print('Test accuracy:', scores[1])\n",
    "    print(hist.history)"
   ]
  },
  {
   "cell_type": "code",
   "execution_count": 7,
   "metadata": {},
   "outputs": [
    {
     "name": "stdout",
     "output_type": "stream",
     "text": [
      "Loading glove data ...\n",
      "Loaded 194504 word vectors.\n",
      "The number of total words for training data:  14414\n",
      "The number of found words from matrix for training data:  13783\n",
      "The fraction found:  0.9562231164145969\n",
      "_________________________________________________________________\n",
      "Layer (type)                 Output Shape              Param #   \n",
      "=================================================================\n",
      "embedding_1 (Embedding)      (None, 52, 100)           1441500   \n",
      "_________________________________________________________________\n",
      "lstm_1 (LSTM)                (None, 52, 100)           80400     \n",
      "_________________________________________________________________\n",
      "lstm_2 (LSTM)                (None, 100)               80400     \n",
      "_________________________________________________________________\n",
      "dense_1 (Dense)              (None, 1)                 101       \n",
      "=================================================================\n",
      "Total params: 1,602,401\n",
      "Trainable params: 160,901\n",
      "Non-trainable params: 1,441,500\n",
      "_________________________________________________________________\n",
      "None\n",
      "Train on 112362 samples, validate on 28091 samples\n",
      "Epoch 1/3\n",
      "  3904/112362 [>.............................] - ETA: 5:33 - loss: 0.5815 - acc: 0.7272"
     ]
    },
    {
     "ename": "KeyboardInterrupt",
     "evalue": "",
     "output_type": "error",
     "traceback": [
      "\u001b[0;31m---------------------------------------------------------------------------\u001b[0m",
      "\u001b[0;31mKeyboardInterrupt\u001b[0m                         Traceback (most recent call last)",
      "\u001b[0;32m<ipython-input-7-e6df9c9df9bc>\u001b[0m in \u001b[0;36m<module>\u001b[0;34m()\u001b[0m\n\u001b[1;32m      1\u001b[0m \u001b[0;34m(\u001b[0m\u001b[0mvocab_size_train\u001b[0m\u001b[0;34m,\u001b[0m \u001b[0membedding_matrix\u001b[0m\u001b[0;34m,\u001b[0m \u001b[0mmax_length_train\u001b[0m\u001b[0;34m,\u001b[0m \u001b[0mpadded_x_train\u001b[0m\u001b[0;34m,\u001b[0m \u001b[0my_train\u001b[0m\u001b[0;34m,\u001b[0m \u001b[0mpadded_x_test\u001b[0m\u001b[0;34m,\u001b[0m \u001b[0my_test\u001b[0m\u001b[0;34m)\u001b[0m \u001b[0;34m=\u001b[0m \u001b[0mmodel\u001b[0m\u001b[0;34m(\u001b[0m\u001b[0;34m)\u001b[0m\u001b[0;34m\u001b[0m\u001b[0m\n\u001b[1;32m      2\u001b[0m \u001b[0;31m# run the model without dropout\u001b[0m\u001b[0;34m\u001b[0m\u001b[0;34m\u001b[0m\u001b[0m\n\u001b[0;32m----> 3\u001b[0;31m \u001b[0mbuild_and_run_model\u001b[0m\u001b[0;34m(\u001b[0m\u001b[0mvocab_size_train\u001b[0m\u001b[0;34m,\u001b[0m \u001b[0membedding_matrix\u001b[0m\u001b[0;34m,\u001b[0m \u001b[0mmax_length_train\u001b[0m\u001b[0;34m,\u001b[0m \u001b[0mpadded_x_train\u001b[0m\u001b[0;34m,\u001b[0m \u001b[0my_train\u001b[0m\u001b[0;34m,\u001b[0m \u001b[0mpadded_x_test\u001b[0m\u001b[0;34m,\u001b[0m \u001b[0my_test\u001b[0m\u001b[0;34m,\u001b[0m \u001b[0mdropout\u001b[0m\u001b[0;34m=\u001b[0m\u001b[0;32mFalse\u001b[0m\u001b[0;34m)\u001b[0m\u001b[0;34m\u001b[0m\u001b[0m\n\u001b[0m",
      "\u001b[0;32m<ipython-input-6-496b01e186d7>\u001b[0m in \u001b[0;36mbuild_and_run_model\u001b[0;34m(vocab_size_train, embedding_matrix, max_length_train, padded_x_train, y_train, padded_x_test, y_test, dropout)\u001b[0m\n\u001b[1;32m     29\u001b[0m     \u001b[0mmodel\u001b[0m\u001b[0;34m.\u001b[0m\u001b[0mcompile\u001b[0m\u001b[0;34m(\u001b[0m\u001b[0mloss\u001b[0m\u001b[0;34m=\u001b[0m\u001b[0;34m'binary_crossentropy'\u001b[0m\u001b[0;34m,\u001b[0m \u001b[0moptimizer\u001b[0m\u001b[0;34m=\u001b[0m\u001b[0;34m'adam'\u001b[0m\u001b[0;34m,\u001b[0m \u001b[0mmetrics\u001b[0m\u001b[0;34m=\u001b[0m\u001b[0;34m[\u001b[0m\u001b[0;34m'accuracy'\u001b[0m\u001b[0;34m]\u001b[0m\u001b[0;34m)\u001b[0m\u001b[0;34m\u001b[0m\u001b[0m\n\u001b[1;32m     30\u001b[0m \u001b[0;34m\u001b[0m\u001b[0m\n\u001b[0;32m---> 31\u001b[0;31m     \u001b[0mhist\u001b[0m \u001b[0;34m=\u001b[0m \u001b[0mmodel\u001b[0m\u001b[0;34m.\u001b[0m\u001b[0mfit\u001b[0m\u001b[0;34m(\u001b[0m\u001b[0mpadded_x_train\u001b[0m\u001b[0;34m,\u001b[0m \u001b[0my_train\u001b[0m\u001b[0;34m,\u001b[0m \u001b[0mepochs\u001b[0m\u001b[0;34m=\u001b[0m\u001b[0mnum_epochs\u001b[0m\u001b[0;34m,\u001b[0m \u001b[0mvalidation_split\u001b[0m \u001b[0;34m=\u001b[0m \u001b[0;36m0.2\u001b[0m\u001b[0;34m)\u001b[0m\u001b[0;34m\u001b[0m\u001b[0m\n\u001b[0m\u001b[1;32m     32\u001b[0m \u001b[0;34m\u001b[0m\u001b[0m\n\u001b[1;32m     33\u001b[0m     \u001b[0mscores\u001b[0m \u001b[0;34m=\u001b[0m \u001b[0mmodel\u001b[0m\u001b[0;34m.\u001b[0m\u001b[0mevaluate\u001b[0m\u001b[0;34m(\u001b[0m\u001b[0mpadded_x_test\u001b[0m\u001b[0;34m,\u001b[0m \u001b[0my_test\u001b[0m\u001b[0;34m,\u001b[0m \u001b[0mverbose\u001b[0m\u001b[0;34m=\u001b[0m\u001b[0;36m1\u001b[0m\u001b[0;34m)\u001b[0m\u001b[0;34m\u001b[0m\u001b[0m\n",
      "\u001b[0;32m~/miniconda3/envs/cs152/lib/python3.6/site-packages/keras/engine/training.py\u001b[0m in \u001b[0;36mfit\u001b[0;34m(self, x, y, batch_size, epochs, verbose, callbacks, validation_split, validation_data, shuffle, class_weight, sample_weight, initial_epoch, steps_per_epoch, validation_steps, **kwargs)\u001b[0m\n\u001b[1;32m   1037\u001b[0m                                         \u001b[0minitial_epoch\u001b[0m\u001b[0;34m=\u001b[0m\u001b[0minitial_epoch\u001b[0m\u001b[0;34m,\u001b[0m\u001b[0;34m\u001b[0m\u001b[0m\n\u001b[1;32m   1038\u001b[0m                                         \u001b[0msteps_per_epoch\u001b[0m\u001b[0;34m=\u001b[0m\u001b[0msteps_per_epoch\u001b[0m\u001b[0;34m,\u001b[0m\u001b[0;34m\u001b[0m\u001b[0m\n\u001b[0;32m-> 1039\u001b[0;31m                                         validation_steps=validation_steps)\n\u001b[0m\u001b[1;32m   1040\u001b[0m \u001b[0;34m\u001b[0m\u001b[0m\n\u001b[1;32m   1041\u001b[0m     def evaluate(self, x=None, y=None,\n",
      "\u001b[0;32m~/miniconda3/envs/cs152/lib/python3.6/site-packages/keras/engine/training_arrays.py\u001b[0m in \u001b[0;36mfit_loop\u001b[0;34m(model, f, ins, out_labels, batch_size, epochs, verbose, callbacks, val_f, val_ins, shuffle, callback_metrics, initial_epoch, steps_per_epoch, validation_steps)\u001b[0m\n\u001b[1;32m    197\u001b[0m                     \u001b[0mins_batch\u001b[0m\u001b[0;34m[\u001b[0m\u001b[0mi\u001b[0m\u001b[0;34m]\u001b[0m \u001b[0;34m=\u001b[0m \u001b[0mins_batch\u001b[0m\u001b[0;34m[\u001b[0m\u001b[0mi\u001b[0m\u001b[0;34m]\u001b[0m\u001b[0;34m.\u001b[0m\u001b[0mtoarray\u001b[0m\u001b[0;34m(\u001b[0m\u001b[0;34m)\u001b[0m\u001b[0;34m\u001b[0m\u001b[0m\n\u001b[1;32m    198\u001b[0m \u001b[0;34m\u001b[0m\u001b[0m\n\u001b[0;32m--> 199\u001b[0;31m                 \u001b[0mouts\u001b[0m \u001b[0;34m=\u001b[0m \u001b[0mf\u001b[0m\u001b[0;34m(\u001b[0m\u001b[0mins_batch\u001b[0m\u001b[0;34m)\u001b[0m\u001b[0;34m\u001b[0m\u001b[0m\n\u001b[0m\u001b[1;32m    200\u001b[0m                 \u001b[0mouts\u001b[0m \u001b[0;34m=\u001b[0m \u001b[0mto_list\u001b[0m\u001b[0;34m(\u001b[0m\u001b[0mouts\u001b[0m\u001b[0;34m)\u001b[0m\u001b[0;34m\u001b[0m\u001b[0m\n\u001b[1;32m    201\u001b[0m                 \u001b[0;32mfor\u001b[0m \u001b[0ml\u001b[0m\u001b[0;34m,\u001b[0m \u001b[0mo\u001b[0m \u001b[0;32min\u001b[0m \u001b[0mzip\u001b[0m\u001b[0;34m(\u001b[0m\u001b[0mout_labels\u001b[0m\u001b[0;34m,\u001b[0m \u001b[0mouts\u001b[0m\u001b[0;34m)\u001b[0m\u001b[0;34m:\u001b[0m\u001b[0;34m\u001b[0m\u001b[0m\n",
      "\u001b[0;32m~/miniconda3/envs/cs152/lib/python3.6/site-packages/keras/backend/tensorflow_backend.py\u001b[0m in \u001b[0;36m__call__\u001b[0;34m(self, inputs)\u001b[0m\n\u001b[1;32m   2713\u001b[0m                 \u001b[0;32mreturn\u001b[0m \u001b[0mself\u001b[0m\u001b[0;34m.\u001b[0m\u001b[0m_legacy_call\u001b[0m\u001b[0;34m(\u001b[0m\u001b[0minputs\u001b[0m\u001b[0;34m)\u001b[0m\u001b[0;34m\u001b[0m\u001b[0m\n\u001b[1;32m   2714\u001b[0m \u001b[0;34m\u001b[0m\u001b[0m\n\u001b[0;32m-> 2715\u001b[0;31m             \u001b[0;32mreturn\u001b[0m \u001b[0mself\u001b[0m\u001b[0;34m.\u001b[0m\u001b[0m_call\u001b[0m\u001b[0;34m(\u001b[0m\u001b[0minputs\u001b[0m\u001b[0;34m)\u001b[0m\u001b[0;34m\u001b[0m\u001b[0m\n\u001b[0m\u001b[1;32m   2716\u001b[0m         \u001b[0;32melse\u001b[0m\u001b[0;34m:\u001b[0m\u001b[0;34m\u001b[0m\u001b[0m\n\u001b[1;32m   2717\u001b[0m             \u001b[0;32mif\u001b[0m \u001b[0mpy_any\u001b[0m\u001b[0;34m(\u001b[0m\u001b[0mis_tensor\u001b[0m\u001b[0;34m(\u001b[0m\u001b[0mx\u001b[0m\u001b[0;34m)\u001b[0m \u001b[0;32mfor\u001b[0m \u001b[0mx\u001b[0m \u001b[0;32min\u001b[0m \u001b[0minputs\u001b[0m\u001b[0;34m)\u001b[0m\u001b[0;34m:\u001b[0m\u001b[0;34m\u001b[0m\u001b[0m\n",
      "\u001b[0;32m~/miniconda3/envs/cs152/lib/python3.6/site-packages/keras/backend/tensorflow_backend.py\u001b[0m in \u001b[0;36m_call\u001b[0;34m(self, inputs)\u001b[0m\n\u001b[1;32m   2673\u001b[0m             \u001b[0mfetched\u001b[0m \u001b[0;34m=\u001b[0m \u001b[0mself\u001b[0m\u001b[0;34m.\u001b[0m\u001b[0m_callable_fn\u001b[0m\u001b[0;34m(\u001b[0m\u001b[0;34m*\u001b[0m\u001b[0marray_vals\u001b[0m\u001b[0;34m,\u001b[0m \u001b[0mrun_metadata\u001b[0m\u001b[0;34m=\u001b[0m\u001b[0mself\u001b[0m\u001b[0;34m.\u001b[0m\u001b[0mrun_metadata\u001b[0m\u001b[0;34m)\u001b[0m\u001b[0;34m\u001b[0m\u001b[0m\n\u001b[1;32m   2674\u001b[0m         \u001b[0;32melse\u001b[0m\u001b[0;34m:\u001b[0m\u001b[0;34m\u001b[0m\u001b[0m\n\u001b[0;32m-> 2675\u001b[0;31m             \u001b[0mfetched\u001b[0m \u001b[0;34m=\u001b[0m \u001b[0mself\u001b[0m\u001b[0;34m.\u001b[0m\u001b[0m_callable_fn\u001b[0m\u001b[0;34m(\u001b[0m\u001b[0;34m*\u001b[0m\u001b[0marray_vals\u001b[0m\u001b[0;34m)\u001b[0m\u001b[0;34m\u001b[0m\u001b[0m\n\u001b[0m\u001b[1;32m   2676\u001b[0m         \u001b[0;32mreturn\u001b[0m \u001b[0mfetched\u001b[0m\u001b[0;34m[\u001b[0m\u001b[0;34m:\u001b[0m\u001b[0mlen\u001b[0m\u001b[0;34m(\u001b[0m\u001b[0mself\u001b[0m\u001b[0;34m.\u001b[0m\u001b[0moutputs\u001b[0m\u001b[0;34m)\u001b[0m\u001b[0;34m]\u001b[0m\u001b[0;34m\u001b[0m\u001b[0m\n\u001b[1;32m   2677\u001b[0m \u001b[0;34m\u001b[0m\u001b[0m\n",
      "\u001b[0;32m~/miniconda3/envs/cs152/lib/python3.6/site-packages/tensorflow/python/client/session.py\u001b[0m in \u001b[0;36m__call__\u001b[0;34m(self, *args, **kwargs)\u001b[0m\n\u001b[1;32m   1437\u001b[0m           ret = tf_session.TF_SessionRunCallable(\n\u001b[1;32m   1438\u001b[0m               \u001b[0mself\u001b[0m\u001b[0;34m.\u001b[0m\u001b[0m_session\u001b[0m\u001b[0;34m.\u001b[0m\u001b[0m_session\u001b[0m\u001b[0;34m,\u001b[0m \u001b[0mself\u001b[0m\u001b[0;34m.\u001b[0m\u001b[0m_handle\u001b[0m\u001b[0;34m,\u001b[0m \u001b[0margs\u001b[0m\u001b[0;34m,\u001b[0m \u001b[0mstatus\u001b[0m\u001b[0;34m,\u001b[0m\u001b[0;34m\u001b[0m\u001b[0m\n\u001b[0;32m-> 1439\u001b[0;31m               run_metadata_ptr)\n\u001b[0m\u001b[1;32m   1440\u001b[0m         \u001b[0;32mif\u001b[0m \u001b[0mrun_metadata\u001b[0m\u001b[0;34m:\u001b[0m\u001b[0;34m\u001b[0m\u001b[0m\n\u001b[1;32m   1441\u001b[0m           \u001b[0mproto_data\u001b[0m \u001b[0;34m=\u001b[0m \u001b[0mtf_session\u001b[0m\u001b[0;34m.\u001b[0m\u001b[0mTF_GetBuffer\u001b[0m\u001b[0;34m(\u001b[0m\u001b[0mrun_metadata_ptr\u001b[0m\u001b[0;34m)\u001b[0m\u001b[0;34m\u001b[0m\u001b[0m\n",
      "\u001b[0;31mKeyboardInterrupt\u001b[0m: "
     ]
    }
   ],
   "source": [
    "(vocab_size_train, embedding_matrix, max_length_train, padded_x_train, y_train, padded_x_test, y_test) = model()\n",
    "# run the model without dropout\n",
    "build_and_run_model(vocab_size_train, embedding_matrix, max_length_train, padded_x_train, y_train, padded_x_test, y_test, dropout=False)"
   ]
  },
  {
   "cell_type": "code",
   "execution_count": null,
   "metadata": {},
   "outputs": [],
   "source": [
    "# run the model with dropout to compare performance\n",
    "build_and_run_model(vocab_size_train, embedding_matrix, max_length_train, padded_x_train, y_train, padded_x_test, y_test, dropout=True)"
   ]
  },
  {
   "cell_type": "code",
   "execution_count": null,
   "metadata": {},
   "outputs": [],
   "source": []
  }
 ],
 "metadata": {
  "kernelspec": {
   "display_name": "Python 3",
   "language": "python",
   "name": "python3"
  },
  "language_info": {
   "codemirror_mode": {
    "name": "ipython",
    "version": 3
   },
   "file_extension": ".py",
   "mimetype": "text/x-python",
   "name": "python",
   "nbconvert_exporter": "python",
   "pygments_lexer": "ipython3",
   "version": "3.6.6"
  }
 },
 "nbformat": 4,
 "nbformat_minor": 2
}
